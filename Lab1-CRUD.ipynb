{
 "cells": [
  {
   "cell_type": "markdown",
   "metadata": {},
   "source": [
    "<center>\n",
    "    <h1>Nader Mohamed Elhadedy</h1>\n",
    "</center>"
   ]
  },
  {
   "cell_type": "code",
   "execution_count": 1,
   "metadata": {},
   "outputs": [],
   "source": [
    "from pymongo import MongoClient"
   ]
  },
  {
   "cell_type": "markdown",
   "metadata": {},
   "source": [
    "# Connecting to MongoDB"
   ]
  },
  {
   "cell_type": "code",
   "execution_count": 2,
   "metadata": {},
   "outputs": [],
   "source": [
    "client = MongoClient(\"mongodb://localhost:27017\")"
   ]
  },
  {
   "cell_type": "code",
   "execution_count": 3,
   "metadata": {},
   "outputs": [],
   "source": [
    "db = client.local"
   ]
  },
  {
   "cell_type": "markdown",
   "metadata": {},
   "source": [
    "# Helper functions"
   ]
  },
  {
   "cell_type": "code",
   "execution_count": 4,
   "metadata": {},
   "outputs": [],
   "source": [
    "def print_cursor(cursor):\n",
    "    c = 0\n",
    "    for i in cursor:\n",
    "        print()\n",
    "        print(i)\n",
    "        c += 1\n",
    "    print()\n",
    "    print(\"#Results:\", c)"
   ]
  },
  {
   "cell_type": "markdown",
   "metadata": {},
   "source": [
    "---\n",
    "# Insert Documents"
   ]
  },
  {
   "cell_type": "code",
   "execution_count": 5,
   "metadata": {},
   "outputs": [],
   "source": [
    "client.drop_database(\"local\")"
   ]
  },
  {
   "cell_type": "markdown",
   "metadata": {},
   "source": [
    "## Insert a Single Document"
   ]
  },
  {
   "cell_type": "code",
   "execution_count": 6,
   "metadata": {},
   "outputs": [
    {
     "name": "stdout",
     "output_type": "stream",
     "text": [
      "\n",
      "{'_id': ObjectId('61276b9cfcc2197f1d1941a9'), 'item': 'canvas', 'qty': 100, 'tags': ['cotton'], 'size': {'h': 28, 'w': 35.5, 'uom': 'cm'}}\n",
      "\n",
      "#Results: 1\n"
     ]
    }
   ],
   "source": [
    "db.inventory.insert_one(\n",
    "    {\"item\": \"canvas\",\n",
    "     \"qty\": 100,\n",
    "     \"tags\": [\"cotton\"],\n",
    "     \"size\": {\"h\": 28, \"w\": 35.5, \"uom\": \"cm\"}})\n",
    "\n",
    "cursor = db.inventory.find({\"item\": \"canvas\"})\n",
    "print_cursor(cursor)"
   ]
  },
  {
   "cell_type": "markdown",
   "metadata": {},
   "source": [
    "## Insert Multiple Documents"
   ]
  },
  {
   "cell_type": "code",
   "execution_count": 7,
   "metadata": {},
   "outputs": [
    {
     "name": "stdout",
     "output_type": "stream",
     "text": [
      "\n",
      "{'_id': ObjectId('61276b9cfcc2197f1d1941a9'), 'item': 'canvas', 'qty': 100, 'tags': ['cotton'], 'size': {'h': 28, 'w': 35.5, 'uom': 'cm'}}\n",
      "\n",
      "{'_id': ObjectId('61276b9cfcc2197f1d1941aa'), 'item': 'journal', 'qty': 25, 'tags': ['blank', 'red'], 'size': {'h': 14, 'w': 21, 'uom': 'cm'}}\n",
      "\n",
      "{'_id': ObjectId('61276b9cfcc2197f1d1941ab'), 'item': 'mat', 'qty': 85, 'tags': ['gray'], 'size': {'h': 27.9, 'w': 35.5, 'uom': 'cm'}}\n",
      "\n",
      "{'_id': ObjectId('61276b9cfcc2197f1d1941ac'), 'item': 'mousepad', 'qty': 25, 'tags': ['gel', 'blue'], 'size': {'h': 19, 'w': 22.85, 'uom': 'cm'}}\n",
      "\n",
      "#Results: 4\n"
     ]
    }
   ],
   "source": [
    "db.inventory.insert_many([\n",
    "    {\"item\": \"journal\",\n",
    "     \"qty\": 25,\n",
    "     \"tags\": [\"blank\", \"red\"],\n",
    "     \"size\": {\"h\": 14, \"w\": 21, \"uom\": \"cm\"}},\n",
    "    {\"item\": \"mat\",\n",
    "     \"qty\": 85,\n",
    "     \"tags\": [\"gray\"],\n",
    "     \"size\": {\"h\": 27.9, \"w\": 35.5, \"uom\": \"cm\"}},\n",
    "    {\"item\": \"mousepad\",\n",
    "     \"qty\": 25,\n",
    "     \"tags\": [\"gel\", \"blue\"],\n",
    "     \"size\": {\"h\": 19, \"w\": 22.85, \"uom\": \"cm\"}}])\n",
    "\n",
    "cursor = db.inventory.find()\n",
    "print_cursor(cursor)"
   ]
  },
  {
   "cell_type": "markdown",
   "metadata": {},
   "source": [
    "---\n",
    "# Query Documents"
   ]
  },
  {
   "cell_type": "code",
   "execution_count": 8,
   "metadata": {},
   "outputs": [],
   "source": [
    "client.drop_database(\"local\")"
   ]
  },
  {
   "cell_type": "code",
   "execution_count": 9,
   "metadata": {},
   "outputs": [
    {
     "data": {
      "text/plain": [
       "<pymongo.results.InsertManyResult at 0x1ea80fb4340>"
      ]
     },
     "execution_count": 9,
     "metadata": {},
     "output_type": "execute_result"
    }
   ],
   "source": [
    "db.inventory.insert_many([\n",
    "    {\"item\": \"journal\",\n",
    "     \"qty\": 25,\n",
    "     \"tags\": [\"blank\", \"red\"],\n",
    "     \"size\": {\"h\": 14, \"w\": 21, \"uom\": \"cm\"}},\n",
    "    {\"item\": \"mat\",\n",
    "     \"qty\": 85,\n",
    "     \"tags\": [\"gray\"],\n",
    "     \"size\": {\"h\": 27.9, \"w\": 35.5, \"uom\": \"cm\"}},\n",
    "    {\"item\": \"mousepad\",\n",
    "     \"qty\": 25,\n",
    "     \"tags\": [\"gel\", \"blue\"],\n",
    "     \"size\": {\"h\": 19, \"w\": 22.85, \"uom\": \"cm\"}}])"
   ]
  },
  {
   "cell_type": "markdown",
   "metadata": {},
   "source": [
    "## Select All Documents in a Collection"
   ]
  },
  {
   "cell_type": "code",
   "execution_count": 10,
   "metadata": {},
   "outputs": [
    {
     "name": "stdout",
     "output_type": "stream",
     "text": [
      "\n",
      "{'_id': ObjectId('61276b9cfcc2197f1d1941ad'), 'item': 'journal', 'qty': 25, 'tags': ['blank', 'red'], 'size': {'h': 14, 'w': 21, 'uom': 'cm'}}\n",
      "\n",
      "{'_id': ObjectId('61276b9cfcc2197f1d1941ae'), 'item': 'mat', 'qty': 85, 'tags': ['gray'], 'size': {'h': 27.9, 'w': 35.5, 'uom': 'cm'}}\n",
      "\n",
      "{'_id': ObjectId('61276b9cfcc2197f1d1941af'), 'item': 'mousepad', 'qty': 25, 'tags': ['gel', 'blue'], 'size': {'h': 19, 'w': 22.85, 'uom': 'cm'}}\n",
      "\n",
      "#Results: 3\n"
     ]
    }
   ],
   "source": [
    "cursor = db.inventory.find({})\n",
    "print_cursor(cursor)"
   ]
  },
  {
   "cell_type": "markdown",
   "metadata": {},
   "source": [
    "## Specify Equality Condition"
   ]
  },
  {
   "cell_type": "code",
   "execution_count": 11,
   "metadata": {},
   "outputs": [
    {
     "name": "stdout",
     "output_type": "stream",
     "text": [
      "\n",
      "{'_id': ObjectId('61276b9cfcc2197f1d1941ae'), 'item': 'mat', 'qty': 85, 'tags': ['gray'], 'size': {'h': 27.9, 'w': 35.5, 'uom': 'cm'}}\n",
      "\n",
      "#Results: 1\n"
     ]
    }
   ],
   "source": [
    "cursor = db.inventory.find({\"item\": \"mat\"})\n",
    "print_cursor(cursor)"
   ]
  },
  {
   "cell_type": "code",
   "execution_count": 12,
   "metadata": {},
   "outputs": [
    {
     "name": "stdout",
     "output_type": "stream",
     "text": [
      "\n",
      "{'_id': ObjectId('61276b9cfcc2197f1d1941ad'), 'item': 'journal', 'qty': 25, 'tags': ['blank', 'red'], 'size': {'h': 14, 'w': 21, 'uom': 'cm'}}\n",
      "\n",
      "{'_id': ObjectId('61276b9cfcc2197f1d1941af'), 'item': 'mousepad', 'qty': 25, 'tags': ['gel', 'blue'], 'size': {'h': 19, 'w': 22.85, 'uom': 'cm'}}\n",
      "\n",
      "#Results: 2\n"
     ]
    }
   ],
   "source": [
    "cursor = db.inventory.find({\"qty\": 25})\n",
    "print_cursor(cursor)"
   ]
  },
  {
   "cell_type": "markdown",
   "metadata": {},
   "source": [
    "## Specify Conditions Using Query Operators"
   ]
  },
  {
   "cell_type": "code",
   "execution_count": 13,
   "metadata": {},
   "outputs": [
    {
     "name": "stdout",
     "output_type": "stream",
     "text": [
      "\n",
      "{'_id': ObjectId('61276b9cfcc2197f1d1941ad'), 'item': 'journal', 'qty': 25, 'tags': ['blank', 'red'], 'size': {'h': 14, 'w': 21, 'uom': 'cm'}}\n",
      "\n",
      "{'_id': ObjectId('61276b9cfcc2197f1d1941af'), 'item': 'mousepad', 'qty': 25, 'tags': ['gel', 'blue'], 'size': {'h': 19, 'w': 22.85, 'uom': 'cm'}}\n",
      "\n",
      "#Results: 2\n"
     ]
    }
   ],
   "source": [
    "cursor = db.inventory.find({\"tags\": {\"$in\": ['red', 'gel']}})\n",
    "print_cursor(cursor)"
   ]
  },
  {
   "cell_type": "markdown",
   "metadata": {},
   "source": [
    "## Specify AND Conditions"
   ]
  },
  {
   "cell_type": "code",
   "execution_count": 14,
   "metadata": {},
   "outputs": [
    {
     "name": "stdout",
     "output_type": "stream",
     "text": [
      "\n",
      "{'_id': ObjectId('61276b9cfcc2197f1d1941ad'), 'item': 'journal', 'qty': 25, 'tags': ['blank', 'red'], 'size': {'h': 14, 'w': 21, 'uom': 'cm'}}\n",
      "\n",
      "#Results: 1\n"
     ]
    }
   ],
   "source": [
    "cursor = db.inventory.find({\"qty\": 25, \"size.h\": {\"$lt\": 15}})\n",
    "print_cursor(cursor)"
   ]
  },
  {
   "cell_type": "markdown",
   "metadata": {},
   "source": [
    "## Specify OR Conditions"
   ]
  },
  {
   "cell_type": "code",
   "execution_count": 15,
   "metadata": {},
   "outputs": [
    {
     "name": "stdout",
     "output_type": "stream",
     "text": [
      "\n",
      "{'_id': ObjectId('61276b9cfcc2197f1d1941ad'), 'item': 'journal', 'qty': 25, 'tags': ['blank', 'red'], 'size': {'h': 14, 'w': 21, 'uom': 'cm'}}\n",
      "\n",
      "{'_id': ObjectId('61276b9cfcc2197f1d1941ae'), 'item': 'mat', 'qty': 85, 'tags': ['gray'], 'size': {'h': 27.9, 'w': 35.5, 'uom': 'cm'}}\n",
      "\n",
      "#Results: 2\n"
     ]
    }
   ],
   "source": [
    "cursor = db.inventory.find({\"$or\": [{\"item\": \"journal\"}, {\"qty\": {\"$gte\": 85}}]})\n",
    "print_cursor(cursor)"
   ]
  },
  {
   "cell_type": "markdown",
   "metadata": {},
   "source": [
    "## Specify AND as well as OR Conditions"
   ]
  },
  {
   "cell_type": "code",
   "execution_count": 16,
   "metadata": {
    "scrolled": true
   },
   "outputs": [
    {
     "name": "stdout",
     "output_type": "stream",
     "text": [
      "\n",
      "{'_id': ObjectId('61276b9cfcc2197f1d1941ad'), 'item': 'journal', 'qty': 25, 'tags': ['blank', 'red'], 'size': {'h': 14, 'w': 21, 'uom': 'cm'}}\n",
      "\n",
      "{'_id': ObjectId('61276b9cfcc2197f1d1941ae'), 'item': 'mat', 'qty': 85, 'tags': ['gray'], 'size': {'h': 27.9, 'w': 35.5, 'uom': 'cm'}}\n",
      "\n",
      "{'_id': ObjectId('61276b9cfcc2197f1d1941af'), 'item': 'mousepad', 'qty': 25, 'tags': ['gel', 'blue'], 'size': {'h': 19, 'w': 22.85, 'uom': 'cm'}}\n",
      "\n",
      "#Results: 3\n"
     ]
    }
   ],
   "source": [
    "cursor = db.inventory.find({\"qty\": {\"$gt\": 20},\n",
    "                            \"$or\": [{\"size.h\": {\"$lt\": 15}}, {\"item\": {\"$regex\": \"^m\"}}]})\n",
    "print_cursor(cursor)"
   ]
  },
  {
   "cell_type": "markdown",
   "metadata": {},
   "source": [
    "---\n",
    "# Query on Embedded/Nested Documents"
   ]
  },
  {
   "cell_type": "code",
   "execution_count": 17,
   "metadata": {},
   "outputs": [],
   "source": [
    "client.drop_database(\"local\")"
   ]
  },
  {
   "cell_type": "code",
   "execution_count": 18,
   "metadata": {},
   "outputs": [
    {
     "data": {
      "text/plain": [
       "<pymongo.results.InsertManyResult at 0x1ea80fb78c0>"
      ]
     },
     "execution_count": 18,
     "metadata": {},
     "output_type": "execute_result"
    }
   ],
   "source": [
    "# Subdocument key order matters in a few of these examples so we have\n",
    "# to use bson.son.SON instead of a Python dict.\n",
    "from bson.son import SON\n",
    "db.inventory.insert_many([\n",
    "    {\"item\": \"journal\",\n",
    "     \"qty\": 25,\n",
    "     \"size\": SON([(\"h\", 14), (\"w\", 21), (\"uom\", \"cm\")]),\n",
    "     \"status\": \"A\"},\n",
    "    {\"item\": \"notebook\",\n",
    "     \"qty\": 50,\n",
    "     \"size\": SON([(\"h\", 8.5), (\"w\", 11), (\"uom\", \"in\")]),\n",
    "     \"status\": \"A\"},\n",
    "    {\"item\": \"paper\",\n",
    "     \"qty\": 100,\n",
    "     \"size\": SON([(\"h\", 8.5), (\"w\", 11), (\"uom\", \"in\")]),\n",
    "     \"status\": \"D\"},\n",
    "    {\"item\": \"planner\",\n",
    "     \"qty\": 75,\n",
    "     \"size\": SON([(\"h\", 22.85), (\"w\", 30), (\"uom\", \"cm\")]),\n",
    "     \"status\": \"D\"},\n",
    "    {\"item\": \"postcard\",\n",
    "     \"qty\": 45,\n",
    "     \"size\": SON([(\"h\", 10), (\"w\", 15.25), (\"uom\", \"cm\")]),\n",
    "     \"status\": \"A\"}])"
   ]
  },
  {
   "cell_type": "markdown",
   "metadata": {},
   "source": [
    "## Match an Embedded/Nested Document"
   ]
  },
  {
   "cell_type": "code",
   "execution_count": 19,
   "metadata": {},
   "outputs": [
    {
     "name": "stdout",
     "output_type": "stream",
     "text": [
      "\n",
      "{'_id': ObjectId('61276b9efcc2197f1d1941b0'), 'item': 'journal', 'qty': 25, 'size': {'h': 14, 'w': 21, 'uom': 'cm'}, 'status': 'A'}\n",
      "\n",
      "#Results: 1\n"
     ]
    }
   ],
   "source": [
    "cursor = db.inventory.find({\"size\": SON([(\"h\", 14), (\"w\", 21), (\"uom\", \"cm\")])})\n",
    "print_cursor(cursor)"
   ]
  },
  {
   "cell_type": "markdown",
   "metadata": {},
   "source": [
    "---"
   ]
  },
  {
   "cell_type": "markdown",
   "metadata": {},
   "source": [
    "## Query on Nested Field"
   ]
  },
  {
   "cell_type": "markdown",
   "metadata": {},
   "source": [
    "### Specify Equality Match on a Nested Field"
   ]
  },
  {
   "cell_type": "code",
   "execution_count": 20,
   "metadata": {},
   "outputs": [
    {
     "name": "stdout",
     "output_type": "stream",
     "text": [
      "\n",
      "{'_id': ObjectId('61276b9efcc2197f1d1941b1'), 'item': 'notebook', 'qty': 50, 'size': {'h': 8.5, 'w': 11, 'uom': 'in'}, 'status': 'A'}\n",
      "\n",
      "{'_id': ObjectId('61276b9efcc2197f1d1941b2'), 'item': 'paper', 'qty': 100, 'size': {'h': 8.5, 'w': 11, 'uom': 'in'}, 'status': 'D'}\n",
      "\n",
      "#Results: 2\n"
     ]
    }
   ],
   "source": [
    "cursor = db.inventory.find({\"size.uom\": \"in\"})\n",
    "print_cursor(cursor)"
   ]
  },
  {
   "cell_type": "markdown",
   "metadata": {},
   "source": [
    "### Specify Match using Query Operator"
   ]
  },
  {
   "cell_type": "code",
   "execution_count": 21,
   "metadata": {},
   "outputs": [
    {
     "name": "stdout",
     "output_type": "stream",
     "text": [
      "\n",
      "{'_id': ObjectId('61276b9efcc2197f1d1941b0'), 'item': 'journal', 'qty': 25, 'size': {'h': 14, 'w': 21, 'uom': 'cm'}, 'status': 'A'}\n",
      "\n",
      "{'_id': ObjectId('61276b9efcc2197f1d1941b1'), 'item': 'notebook', 'qty': 50, 'size': {'h': 8.5, 'w': 11, 'uom': 'in'}, 'status': 'A'}\n",
      "\n",
      "{'_id': ObjectId('61276b9efcc2197f1d1941b2'), 'item': 'paper', 'qty': 100, 'size': {'h': 8.5, 'w': 11, 'uom': 'in'}, 'status': 'D'}\n",
      "\n",
      "{'_id': ObjectId('61276b9efcc2197f1d1941b4'), 'item': 'postcard', 'qty': 45, 'size': {'h': 10, 'w': 15.25, 'uom': 'cm'}, 'status': 'A'}\n",
      "\n",
      "#Results: 4\n"
     ]
    }
   ],
   "source": [
    "cursor = db.inventory.find({\"size.h\": {\"$lt\": 15}})\n",
    "print_cursor(cursor)"
   ]
  },
  {
   "cell_type": "markdown",
   "metadata": {},
   "source": [
    "### Specify AND Condition"
   ]
  },
  {
   "cell_type": "code",
   "execution_count": 22,
   "metadata": {},
   "outputs": [
    {
     "name": "stdout",
     "output_type": "stream",
     "text": [
      "\n",
      "{'_id': ObjectId('61276b9efcc2197f1d1941b2'), 'item': 'paper', 'qty': 100, 'size': {'h': 8.5, 'w': 11, 'uom': 'in'}, 'status': 'D'}\n",
      "\n",
      "#Results: 1\n"
     ]
    }
   ],
   "source": [
    "cursor = db.inventory.find({\"size.h\": {\"$lt\": 15}, \"size.uom\": \"in\", \"status\": \"D\"})\n",
    "print_cursor(cursor)"
   ]
  },
  {
   "cell_type": "markdown",
   "metadata": {},
   "source": [
    "---\n",
    "# Query an Array\n"
   ]
  },
  {
   "cell_type": "code",
   "execution_count": 23,
   "metadata": {},
   "outputs": [],
   "source": [
    "client.drop_database(\"local\")"
   ]
  },
  {
   "cell_type": "code",
   "execution_count": 24,
   "metadata": {},
   "outputs": [
    {
     "data": {
      "text/plain": [
       "<pymongo.results.InsertManyResult at 0x1ea81fcbf80>"
      ]
     },
     "execution_count": 24,
     "metadata": {},
     "output_type": "execute_result"
    }
   ],
   "source": [
    "db.inventory.insert_many([\n",
    "    {\"item\": \"journal\",\n",
    "     \"qty\": 25,\n",
    "     \"tags\": [\"blank\", \"red\"],\n",
    "     \"dim_cm\": [14, 21]},\n",
    "    {\"item\": \"notebook\",\n",
    "     \"qty\": 50,\n",
    "     \"tags\": [\"red\", \"blank\"],\n",
    "     \"dim_cm\": [14, 21]},\n",
    "    {\"item\": \"paper\",\n",
    "     \"qty\": 100,\n",
    "     \"tags\": [\"red\", \"blank\", \"plain\"],\n",
    "     \"dim_cm\": [14, 21]},\n",
    "    {\"item\": \"planner\",\n",
    "     \"qty\": 75,\n",
    "     \"tags\": [\"blank\", \"red\"],\n",
    "     \"dim_cm\": [22.85, 30]},\n",
    "    {\"item\": \"postcard\",\n",
    "     \"qty\": 45,\n",
    "     \"tags\": [\"blue\"],\n",
    "     \"dim_cm\": [10, 15.25]}])"
   ]
  },
  {
   "cell_type": "markdown",
   "metadata": {},
   "source": [
    "## Match an Array"
   ]
  },
  {
   "cell_type": "code",
   "execution_count": 25,
   "metadata": {
    "scrolled": true
   },
   "outputs": [
    {
     "name": "stdout",
     "output_type": "stream",
     "text": [
      "\n",
      "{'_id': ObjectId('61276b9ffcc2197f1d1941b6'), 'item': 'notebook', 'qty': 50, 'tags': ['red', 'blank'], 'dim_cm': [14, 21]}\n",
      "\n",
      "#Results: 1\n"
     ]
    }
   ],
   "source": [
    "cursor = db.inventory.find({\"tags\": [\"red\", \"blank\"]})\n",
    "print_cursor(cursor)"
   ]
  },
  {
   "cell_type": "code",
   "execution_count": 26,
   "metadata": {},
   "outputs": [
    {
     "name": "stdout",
     "output_type": "stream",
     "text": [
      "\n",
      "{'_id': ObjectId('61276b9ffcc2197f1d1941b5'), 'item': 'journal', 'qty': 25, 'tags': ['blank', 'red'], 'dim_cm': [14, 21]}\n",
      "\n",
      "{'_id': ObjectId('61276b9ffcc2197f1d1941b6'), 'item': 'notebook', 'qty': 50, 'tags': ['red', 'blank'], 'dim_cm': [14, 21]}\n",
      "\n",
      "{'_id': ObjectId('61276b9ffcc2197f1d1941b7'), 'item': 'paper', 'qty': 100, 'tags': ['red', 'blank', 'plain'], 'dim_cm': [14, 21]}\n",
      "\n",
      "{'_id': ObjectId('61276b9ffcc2197f1d1941b8'), 'item': 'planner', 'qty': 75, 'tags': ['blank', 'red'], 'dim_cm': [22.85, 30]}\n",
      "\n",
      "#Results: 4\n"
     ]
    }
   ],
   "source": [
    "cursor = db.inventory.find({\"tags\": {\"$all\": [\"red\", \"blank\"]}})\n",
    "print_cursor(cursor)"
   ]
  },
  {
   "cell_type": "markdown",
   "metadata": {},
   "source": [
    "## Query an Array for an Element"
   ]
  },
  {
   "cell_type": "code",
   "execution_count": 27,
   "metadata": {
    "scrolled": true
   },
   "outputs": [
    {
     "name": "stdout",
     "output_type": "stream",
     "text": [
      "\n",
      "{'_id': ObjectId('61276b9ffcc2197f1d1941b5'), 'item': 'journal', 'qty': 25, 'tags': ['blank', 'red'], 'dim_cm': [14, 21]}\n",
      "\n",
      "{'_id': ObjectId('61276b9ffcc2197f1d1941b6'), 'item': 'notebook', 'qty': 50, 'tags': ['red', 'blank'], 'dim_cm': [14, 21]}\n",
      "\n",
      "{'_id': ObjectId('61276b9ffcc2197f1d1941b7'), 'item': 'paper', 'qty': 100, 'tags': ['red', 'blank', 'plain'], 'dim_cm': [14, 21]}\n",
      "\n",
      "{'_id': ObjectId('61276b9ffcc2197f1d1941b8'), 'item': 'planner', 'qty': 75, 'tags': ['blank', 'red'], 'dim_cm': [22.85, 30]}\n",
      "\n",
      "#Results: 4\n"
     ]
    }
   ],
   "source": [
    "cursor = db.inventory.find({\"tags\": \"red\"})\n",
    "print_cursor(cursor)"
   ]
  },
  {
   "cell_type": "code",
   "execution_count": 28,
   "metadata": {},
   "outputs": [
    {
     "name": "stdout",
     "output_type": "stream",
     "text": [
      "\n",
      "{'_id': ObjectId('61276b9ffcc2197f1d1941b8'), 'item': 'planner', 'qty': 75, 'tags': ['blank', 'red'], 'dim_cm': [22.85, 30]}\n",
      "\n",
      "#Results: 1\n"
     ]
    }
   ],
   "source": [
    "cursor = db.inventory.find({\"dim_cm\": {\"$gt\": 25}})\n",
    "print_cursor(cursor)"
   ]
  },
  {
   "cell_type": "markdown",
   "metadata": {},
   "source": [
    "## Query an Array for an Element\n",
    "### Query an Array with Compound Filter Conditions on the Array Elements"
   ]
  },
  {
   "cell_type": "code",
   "execution_count": 29,
   "metadata": {},
   "outputs": [
    {
     "name": "stdout",
     "output_type": "stream",
     "text": [
      "\n",
      "{'_id': ObjectId('61276b9ffcc2197f1d1941b5'), 'item': 'journal', 'qty': 25, 'tags': ['blank', 'red'], 'dim_cm': [14, 21]}\n",
      "\n",
      "{'_id': ObjectId('61276b9ffcc2197f1d1941b6'), 'item': 'notebook', 'qty': 50, 'tags': ['red', 'blank'], 'dim_cm': [14, 21]}\n",
      "\n",
      "{'_id': ObjectId('61276b9ffcc2197f1d1941b7'), 'item': 'paper', 'qty': 100, 'tags': ['red', 'blank', 'plain'], 'dim_cm': [14, 21]}\n",
      "\n",
      "{'_id': ObjectId('61276b9ffcc2197f1d1941b9'), 'item': 'postcard', 'qty': 45, 'tags': ['blue'], 'dim_cm': [10, 15.25]}\n",
      "\n",
      "#Results: 4\n"
     ]
    }
   ],
   "source": [
    "cursor = db.inventory.find({\"dim_cm\": {\"$gt\": 15, \"$lt\": 20}})\n",
    "print_cursor(cursor)"
   ]
  },
  {
   "cell_type": "markdown",
   "metadata": {},
   "source": [
    "### Query for an Array Element that Meets Multiple Criteria"
   ]
  },
  {
   "cell_type": "code",
   "execution_count": 30,
   "metadata": {},
   "outputs": [
    {
     "name": "stdout",
     "output_type": "stream",
     "text": [
      "\n",
      "{'_id': ObjectId('61276b9ffcc2197f1d1941b8'), 'item': 'planner', 'qty': 75, 'tags': ['blank', 'red'], 'dim_cm': [22.85, 30]}\n",
      "\n",
      "#Results: 1\n"
     ]
    }
   ],
   "source": [
    "cursor = db.inventory.find({\"dim_cm\": {\"$elemMatch\": {\"$gt\": 22, \"$lt\": 30}}})\n",
    "print_cursor(cursor)"
   ]
  },
  {
   "cell_type": "markdown",
   "metadata": {},
   "source": [
    "### Query for an Element by the Array Index Position"
   ]
  },
  {
   "cell_type": "code",
   "execution_count": 31,
   "metadata": {},
   "outputs": [
    {
     "name": "stdout",
     "output_type": "stream",
     "text": [
      "\n",
      "{'_id': ObjectId('61276b9ffcc2197f1d1941b8'), 'item': 'planner', 'qty': 75, 'tags': ['blank', 'red'], 'dim_cm': [22.85, 30]}\n",
      "\n",
      "#Results: 1\n"
     ]
    }
   ],
   "source": [
    "cursor = db.inventory.find({\"dim_cm.1\": {\"$gt\": 25}})\n",
    "print_cursor(cursor)"
   ]
  },
  {
   "cell_type": "markdown",
   "metadata": {},
   "source": [
    "### Query an Array by Array Length"
   ]
  },
  {
   "cell_type": "code",
   "execution_count": 32,
   "metadata": {},
   "outputs": [
    {
     "name": "stdout",
     "output_type": "stream",
     "text": [
      "\n",
      "{'_id': ObjectId('61276b9ffcc2197f1d1941b7'), 'item': 'paper', 'qty': 100, 'tags': ['red', 'blank', 'plain'], 'dim_cm': [14, 21]}\n",
      "\n",
      "#Results: 1\n"
     ]
    }
   ],
   "source": [
    "cursor = db.inventory.find({\"tags\": {\"$size\": 3}})\n",
    "print_cursor(cursor)"
   ]
  },
  {
   "cell_type": "markdown",
   "metadata": {},
   "source": [
    "---\n",
    "# Query an Array of Embedded Documents"
   ]
  },
  {
   "cell_type": "code",
   "execution_count": 33,
   "metadata": {},
   "outputs": [],
   "source": [
    "client.drop_database(\"local\")"
   ]
  },
  {
   "cell_type": "code",
   "execution_count": 34,
   "metadata": {},
   "outputs": [
    {
     "data": {
      "text/plain": [
       "<pymongo.results.InsertManyResult at 0x1ea81fbbe80>"
      ]
     },
     "execution_count": 34,
     "metadata": {},
     "output_type": "execute_result"
    }
   ],
   "source": [
    "# Subdocument key order matters in a few of these examples so we have\n",
    "# to use bson.son.SON instead of a Python dict.\n",
    "from bson.son import SON\n",
    "db.inventory.insert_many([\n",
    "    {\"item\": \"journal\",\n",
    "     \"instock\": [\n",
    "         SON([(\"warehouse\", \"A\"), (\"qty\", 5)]),\n",
    "         SON([(\"warehouse\", \"C\"), (\"qty\", 15)])]},\n",
    "    {\"item\": \"notebook\",\n",
    "     \"instock\": [\n",
    "         SON([(\"warehouse\", \"C\"), (\"qty\", 5)])]},\n",
    "    {\"item\": \"paper\",\n",
    "     \"instock\": [\n",
    "         SON([(\"warehouse\", \"A\"), (\"qty\", 60)]),\n",
    "         SON([(\"warehouse\", \"B\"), (\"qty\", 15)])]},\n",
    "    {\"item\": \"planner\",\n",
    "     \"instock\": [\n",
    "         SON([(\"warehouse\", \"A\"), (\"qty\", 40)]),\n",
    "         SON([(\"warehouse\", \"B\"), (\"qty\", 5)])]},\n",
    "    {\"item\": \"postcard\",\n",
    "     \"instock\": [\n",
    "         SON([(\"warehouse\", \"B\"), (\"qty\", 15)]),\n",
    "         SON([(\"warehouse\", \"C\"), (\"qty\", 35)])]}])"
   ]
  },
  {
   "cell_type": "markdown",
   "metadata": {},
   "source": [
    "## Query for a Document Nested in an Array"
   ]
  },
  {
   "cell_type": "code",
   "execution_count": 35,
   "metadata": {},
   "outputs": [
    {
     "name": "stdout",
     "output_type": "stream",
     "text": [
      "\n",
      "{'_id': ObjectId('61276ba0fcc2197f1d1941ba'), 'item': 'journal', 'instock': [{'warehouse': 'A', 'qty': 5}, {'warehouse': 'C', 'qty': 15}]}\n",
      "\n",
      "#Results: 1\n"
     ]
    }
   ],
   "source": [
    "cursor = db.inventory.find({\"instock\": SON([(\"warehouse\", \"A\"), (\"qty\", 5)])})\n",
    "print_cursor(cursor)"
   ]
  },
  {
   "cell_type": "markdown",
   "metadata": {},
   "source": [
    "## Specify a Query Condition on a Field in an Array of Documents"
   ]
  },
  {
   "cell_type": "markdown",
   "metadata": {},
   "source": [
    "### Specify a Query Condition on a Field Embedded in an Array of Documents"
   ]
  },
  {
   "cell_type": "code",
   "execution_count": 36,
   "metadata": {},
   "outputs": [
    {
     "name": "stdout",
     "output_type": "stream",
     "text": [
      "\n",
      "{'_id': ObjectId('61276ba0fcc2197f1d1941ba'), 'item': 'journal', 'instock': [{'warehouse': 'A', 'qty': 5}, {'warehouse': 'C', 'qty': 15}]}\n",
      "\n",
      "{'_id': ObjectId('61276ba0fcc2197f1d1941bb'), 'item': 'notebook', 'instock': [{'warehouse': 'C', 'qty': 5}]}\n",
      "\n",
      "{'_id': ObjectId('61276ba0fcc2197f1d1941bc'), 'item': 'paper', 'instock': [{'warehouse': 'A', 'qty': 60}, {'warehouse': 'B', 'qty': 15}]}\n",
      "\n",
      "{'_id': ObjectId('61276ba0fcc2197f1d1941bd'), 'item': 'planner', 'instock': [{'warehouse': 'A', 'qty': 40}, {'warehouse': 'B', 'qty': 5}]}\n",
      "\n",
      "{'_id': ObjectId('61276ba0fcc2197f1d1941be'), 'item': 'postcard', 'instock': [{'warehouse': 'B', 'qty': 15}, {'warehouse': 'C', 'qty': 35}]}\n",
      "\n",
      "#Results: 5\n"
     ]
    }
   ],
   "source": [
    "cursor = db.inventory.find({'instock.qty': {\"$lte\": 20}})\n",
    "print_cursor(cursor)"
   ]
  },
  {
   "cell_type": "markdown",
   "metadata": {},
   "source": [
    "### Use the Array Index to Query for a Field in the Embedded Document"
   ]
  },
  {
   "cell_type": "code",
   "execution_count": 37,
   "metadata": {},
   "outputs": [
    {
     "name": "stdout",
     "output_type": "stream",
     "text": [
      "\n",
      "{'_id': ObjectId('61276ba0fcc2197f1d1941ba'), 'item': 'journal', 'instock': [{'warehouse': 'A', 'qty': 5}, {'warehouse': 'C', 'qty': 15}]}\n",
      "\n",
      "{'_id': ObjectId('61276ba0fcc2197f1d1941bb'), 'item': 'notebook', 'instock': [{'warehouse': 'C', 'qty': 5}]}\n",
      "\n",
      "{'_id': ObjectId('61276ba0fcc2197f1d1941be'), 'item': 'postcard', 'instock': [{'warehouse': 'B', 'qty': 15}, {'warehouse': 'C', 'qty': 35}]}\n",
      "\n",
      "#Results: 3\n"
     ]
    }
   ],
   "source": [
    "cursor = db.inventory.find({'instock.0.qty': {\"$lte\": 20}})\n",
    "print_cursor(cursor)"
   ]
  },
  {
   "cell_type": "markdown",
   "metadata": {},
   "source": [
    "## Specify Multiple Conditions for Array of Documents"
   ]
  },
  {
   "cell_type": "markdown",
   "metadata": {},
   "source": [
    "### A Single Nested Document Meets Multiple Query Conditions on Nested Fields"
   ]
  },
  {
   "cell_type": "code",
   "execution_count": 38,
   "metadata": {},
   "outputs": [
    {
     "name": "stdout",
     "output_type": "stream",
     "text": [
      "\n",
      "{'_id': ObjectId('61276ba0fcc2197f1d1941ba'), 'item': 'journal', 'instock': [{'warehouse': 'A', 'qty': 5}, {'warehouse': 'C', 'qty': 15}]}\n",
      "\n",
      "#Results: 1\n"
     ]
    }
   ],
   "source": [
    "cursor = db.inventory.find({\"instock\": {\"$elemMatch\": {\"qty\": 5, \"warehouse\": \"A\"}}})\n",
    "print_cursor(cursor)"
   ]
  },
  {
   "cell_type": "code",
   "execution_count": 39,
   "metadata": {},
   "outputs": [
    {
     "name": "stdout",
     "output_type": "stream",
     "text": [
      "\n",
      "{'_id': ObjectId('61276ba0fcc2197f1d1941ba'), 'item': 'journal', 'instock': [{'warehouse': 'A', 'qty': 5}, {'warehouse': 'C', 'qty': 15}]}\n",
      "\n",
      "{'_id': ObjectId('61276ba0fcc2197f1d1941bc'), 'item': 'paper', 'instock': [{'warehouse': 'A', 'qty': 60}, {'warehouse': 'B', 'qty': 15}]}\n",
      "\n",
      "{'_id': ObjectId('61276ba0fcc2197f1d1941be'), 'item': 'postcard', 'instock': [{'warehouse': 'B', 'qty': 15}, {'warehouse': 'C', 'qty': 35}]}\n",
      "\n",
      "#Results: 3\n"
     ]
    }
   ],
   "source": [
    "cursor = db.inventory.find({\"instock\": {\"$elemMatch\": {\"qty\": {\"$gt\": 10, \"$lte\": 20}}}})\n",
    "print_cursor(cursor)"
   ]
  },
  {
   "cell_type": "markdown",
   "metadata": {},
   "source": [
    "### Combination of Elements Satisfies the Criteria"
   ]
  },
  {
   "cell_type": "code",
   "execution_count": 40,
   "metadata": {},
   "outputs": [
    {
     "name": "stdout",
     "output_type": "stream",
     "text": [
      "\n",
      "{'_id': ObjectId('61276ba0fcc2197f1d1941ba'), 'item': 'journal', 'instock': [{'warehouse': 'A', 'qty': 5}, {'warehouse': 'C', 'qty': 15}]}\n",
      "\n",
      "{'_id': ObjectId('61276ba0fcc2197f1d1941bc'), 'item': 'paper', 'instock': [{'warehouse': 'A', 'qty': 60}, {'warehouse': 'B', 'qty': 15}]}\n",
      "\n",
      "{'_id': ObjectId('61276ba0fcc2197f1d1941bd'), 'item': 'planner', 'instock': [{'warehouse': 'A', 'qty': 40}, {'warehouse': 'B', 'qty': 5}]}\n",
      "\n",
      "{'_id': ObjectId('61276ba0fcc2197f1d1941be'), 'item': 'postcard', 'instock': [{'warehouse': 'B', 'qty': 15}, {'warehouse': 'C', 'qty': 35}]}\n",
      "\n",
      "#Results: 4\n"
     ]
    }
   ],
   "source": [
    "cursor = db.inventory.find({\"instock.qty\": {\"$gt\": 10, \"$lte\": 20}})\n",
    "print_cursor(cursor)"
   ]
  },
  {
   "cell_type": "code",
   "execution_count": 41,
   "metadata": {},
   "outputs": [
    {
     "name": "stdout",
     "output_type": "stream",
     "text": [
      "\n",
      "{'_id': ObjectId('61276ba0fcc2197f1d1941ba'), 'item': 'journal', 'instock': [{'warehouse': 'A', 'qty': 5}, {'warehouse': 'C', 'qty': 15}]}\n",
      "\n",
      "{'_id': ObjectId('61276ba0fcc2197f1d1941bd'), 'item': 'planner', 'instock': [{'warehouse': 'A', 'qty': 40}, {'warehouse': 'B', 'qty': 5}]}\n",
      "\n",
      "#Results: 2\n"
     ]
    }
   ],
   "source": [
    "cursor = db.inventory.find({\"instock.qty\": 5, \"instock.warehouse\": \"A\"})\n",
    "print_cursor(cursor)"
   ]
  },
  {
   "cell_type": "markdown",
   "metadata": {},
   "source": [
    "---\n",
    "# Project Fields to Return from Query"
   ]
  },
  {
   "cell_type": "code",
   "execution_count": 42,
   "metadata": {},
   "outputs": [],
   "source": [
    "client.drop_database(\"local\")"
   ]
  },
  {
   "cell_type": "code",
   "execution_count": 43,
   "metadata": {},
   "outputs": [
    {
     "data": {
      "text/plain": [
       "<pymongo.results.InsertManyResult at 0x1ea81fe5900>"
      ]
     },
     "execution_count": 43,
     "metadata": {},
     "output_type": "execute_result"
    }
   ],
   "source": [
    "db.inventory.insert_many([\n",
    "    {\"item\": \"journal\",\n",
    "     \"status\": \"A\",\n",
    "     \"size\": {\"h\": 14, \"w\": 21, \"uom\": \"cm\"},\n",
    "     \"instock\": [{\"warehouse\": \"A\", \"qty\": 5}]},\n",
    "    {\"item\": \"notebook\",\n",
    "     \"status\": \"A\",\n",
    "     \"size\": {\"h\": 8.5, \"w\": 11, \"uom\": \"in\"},\n",
    "     \"instock\": [{\"warehouse\": \"C\", \"qty\": 5}]},\n",
    "    {\"item\": \"paper\",\n",
    "     \"status\": \"D\",\n",
    "     \"size\": {\"h\": 8.5, \"w\": 11, \"uom\": \"in\"},\n",
    "     \"instock\": [{\"warehouse\": \"A\", \"qty\": 60}]},\n",
    "    {\"item\": \"planner\",\n",
    "     \"status\": \"D\",\n",
    "     \"size\": {\"h\": 22.85, \"w\": 30, \"uom\": \"cm\"},\n",
    "     \"instock\": [{\"warehouse\": \"A\", \"qty\": 40}]},\n",
    "    {\"item\": \"postcard\",\n",
    "     \"status\": \"A\",\n",
    "     \"size\": {\"h\": 10, \"w\": 15.25, \"uom\": \"cm\"},\n",
    "     \"instock\": [\n",
    "         {\"warehouse\": \"B\", \"qty\": 15},\n",
    "         {\"warehouse\": \"C\", \"qty\": 35}]}])"
   ]
  },
  {
   "cell_type": "markdown",
   "metadata": {},
   "source": [
    "## Return All Fields in Matching Documents"
   ]
  },
  {
   "cell_type": "code",
   "execution_count": 44,
   "metadata": {},
   "outputs": [
    {
     "name": "stdout",
     "output_type": "stream",
     "text": [
      "\n",
      "{'_id': ObjectId('61276ba2fcc2197f1d1941bf'), 'item': 'journal', 'status': 'A', 'size': {'h': 14, 'w': 21, 'uom': 'cm'}, 'instock': [{'warehouse': 'A', 'qty': 5}]}\n",
      "\n",
      "{'_id': ObjectId('61276ba2fcc2197f1d1941c0'), 'item': 'notebook', 'status': 'A', 'size': {'h': 8.5, 'w': 11, 'uom': 'in'}, 'instock': [{'warehouse': 'C', 'qty': 5}]}\n",
      "\n",
      "{'_id': ObjectId('61276ba2fcc2197f1d1941c3'), 'item': 'postcard', 'status': 'A', 'size': {'h': 10, 'w': 15.25, 'uom': 'cm'}, 'instock': [{'warehouse': 'B', 'qty': 15}, {'warehouse': 'C', 'qty': 35}]}\n",
      "\n",
      "#Results: 3\n"
     ]
    }
   ],
   "source": [
    "cursor = db.inventory.find({\"status\": \"A\"})\n",
    "print_cursor(cursor)"
   ]
  },
  {
   "cell_type": "markdown",
   "metadata": {},
   "source": [
    "## Return the Specified Fields and the _id Field Only"
   ]
  },
  {
   "cell_type": "code",
   "execution_count": 45,
   "metadata": {},
   "outputs": [
    {
     "name": "stdout",
     "output_type": "stream",
     "text": [
      "\n",
      "{'_id': ObjectId('61276ba2fcc2197f1d1941bf'), 'item': 'journal', 'status': 'A'}\n",
      "\n",
      "{'_id': ObjectId('61276ba2fcc2197f1d1941c0'), 'item': 'notebook', 'status': 'A'}\n",
      "\n",
      "{'_id': ObjectId('61276ba2fcc2197f1d1941c3'), 'item': 'postcard', 'status': 'A'}\n",
      "\n",
      "#Results: 3\n"
     ]
    }
   ],
   "source": [
    "cursor = db.inventory.find({\"status\": \"A\"}, {\"item\": 1, \"status\": 1})\n",
    "print_cursor(cursor)"
   ]
  },
  {
   "cell_type": "markdown",
   "metadata": {},
   "source": [
    "## Suppress _id Field"
   ]
  },
  {
   "cell_type": "code",
   "execution_count": 46,
   "metadata": {},
   "outputs": [
    {
     "name": "stdout",
     "output_type": "stream",
     "text": [
      "\n",
      "{'item': 'journal', 'status': 'A'}\n",
      "\n",
      "{'item': 'notebook', 'status': 'A'}\n",
      "\n",
      "{'item': 'postcard', 'status': 'A'}\n",
      "\n",
      "#Results: 3\n"
     ]
    }
   ],
   "source": [
    "cursor = db.inventory.find({\"status\": \"A\"}, {\"item\": 1, \"status\": 1, \"_id\": 0})\n",
    "print_cursor(cursor)"
   ]
  },
  {
   "cell_type": "markdown",
   "metadata": {},
   "source": [
    "## Return All But the Excluded Fields"
   ]
  },
  {
   "cell_type": "code",
   "execution_count": 47,
   "metadata": {},
   "outputs": [
    {
     "name": "stdout",
     "output_type": "stream",
     "text": [
      "\n",
      "{'_id': ObjectId('61276ba2fcc2197f1d1941bf'), 'item': 'journal', 'size': {'h': 14, 'w': 21, 'uom': 'cm'}}\n",
      "\n",
      "{'_id': ObjectId('61276ba2fcc2197f1d1941c0'), 'item': 'notebook', 'size': {'h': 8.5, 'w': 11, 'uom': 'in'}}\n",
      "\n",
      "{'_id': ObjectId('61276ba2fcc2197f1d1941c3'), 'item': 'postcard', 'size': {'h': 10, 'w': 15.25, 'uom': 'cm'}}\n",
      "\n",
      "#Results: 3\n"
     ]
    }
   ],
   "source": [
    "cursor = db.inventory.find({\"status\": \"A\"}, {\"status\": 0, \"instock\": 0})\n",
    "print_cursor(cursor)"
   ]
  },
  {
   "cell_type": "markdown",
   "metadata": {},
   "source": [
    "## Return Specific Fields in Embedded Documents"
   ]
  },
  {
   "cell_type": "code",
   "execution_count": 48,
   "metadata": {},
   "outputs": [
    {
     "name": "stdout",
     "output_type": "stream",
     "text": [
      "\n",
      "{'_id': ObjectId('61276ba2fcc2197f1d1941bf'), 'item': 'journal', 'status': 'A', 'size': {'uom': 'cm'}}\n",
      "\n",
      "{'_id': ObjectId('61276ba2fcc2197f1d1941c0'), 'item': 'notebook', 'status': 'A', 'size': {'uom': 'in'}}\n",
      "\n",
      "{'_id': ObjectId('61276ba2fcc2197f1d1941c3'), 'item': 'postcard', 'status': 'A', 'size': {'uom': 'cm'}}\n",
      "\n",
      "#Results: 3\n"
     ]
    }
   ],
   "source": [
    "cursor = db.inventory.find({\"status\": \"A\"}, {\"item\": 1, \"status\": 1, \"size.uom\": 1})\n",
    "print_cursor(cursor)"
   ]
  },
  {
   "cell_type": "markdown",
   "metadata": {},
   "source": [
    "## Suppress Specific Fields in Embedded Documents"
   ]
  },
  {
   "cell_type": "code",
   "execution_count": 49,
   "metadata": {},
   "outputs": [
    {
     "name": "stdout",
     "output_type": "stream",
     "text": [
      "\n",
      "{'_id': ObjectId('61276ba2fcc2197f1d1941bf'), 'item': 'journal', 'status': 'A', 'size': {'h': 14, 'w': 21}, 'instock': [{'warehouse': 'A', 'qty': 5}]}\n",
      "\n",
      "{'_id': ObjectId('61276ba2fcc2197f1d1941c0'), 'item': 'notebook', 'status': 'A', 'size': {'h': 8.5, 'w': 11}, 'instock': [{'warehouse': 'C', 'qty': 5}]}\n",
      "\n",
      "{'_id': ObjectId('61276ba2fcc2197f1d1941c3'), 'item': 'postcard', 'status': 'A', 'size': {'h': 10, 'w': 15.25}, 'instock': [{'warehouse': 'B', 'qty': 15}, {'warehouse': 'C', 'qty': 35}]}\n",
      "\n",
      "#Results: 3\n"
     ]
    }
   ],
   "source": [
    "cursor = db.inventory.find({\"status\": \"A\"}, {\"size.uom\": 0})\n",
    "print_cursor(cursor)"
   ]
  },
  {
   "cell_type": "markdown",
   "metadata": {},
   "source": [
    "## Projection on Embedded Documents in an Array"
   ]
  },
  {
   "cell_type": "code",
   "execution_count": 50,
   "metadata": {},
   "outputs": [
    {
     "name": "stdout",
     "output_type": "stream",
     "text": [
      "\n",
      "{'_id': ObjectId('61276ba2fcc2197f1d1941bf'), 'item': 'journal', 'status': 'A', 'instock': [{'qty': 5}]}\n",
      "\n",
      "{'_id': ObjectId('61276ba2fcc2197f1d1941c0'), 'item': 'notebook', 'status': 'A', 'instock': [{'qty': 5}]}\n",
      "\n",
      "{'_id': ObjectId('61276ba2fcc2197f1d1941c3'), 'item': 'postcard', 'status': 'A', 'instock': [{'qty': 15}, {'qty': 35}]}\n",
      "\n",
      "#Results: 3\n"
     ]
    }
   ],
   "source": [
    "cursor = db.inventory.find({\"status\": \"A\"}, {\"item\": 1, \"status\": 1, \"instock.qty\": 1})\n",
    "print_cursor(cursor)"
   ]
  },
  {
   "cell_type": "markdown",
   "metadata": {},
   "source": [
    "## Project Specific Array Elements in the Returned Array\n",
    "For fields that contain arrays, MongoDB provides the following projection operators for manipulating arrays: `$elemMatch`, `$slice`, and `$`. Try them in lab."
   ]
  },
  {
   "cell_type": "code",
   "execution_count": 51,
   "metadata": {},
   "outputs": [
    {
     "name": "stdout",
     "output_type": "stream",
     "text": [
      "\n",
      "{'_id': ObjectId('61276ba2fcc2197f1d1941bf'), 'item': 'journal', 'status': 'A', 'instock': [{'warehouse': 'A', 'qty': 5}]}\n",
      "\n",
      "{'_id': ObjectId('61276ba2fcc2197f1d1941c0'), 'item': 'notebook', 'status': 'A', 'instock': [{'warehouse': 'C', 'qty': 5}]}\n",
      "\n",
      "{'_id': ObjectId('61276ba2fcc2197f1d1941c3'), 'item': 'postcard', 'status': 'A', 'instock': [{'warehouse': 'C', 'qty': 35}]}\n",
      "\n",
      "#Results: 3\n"
     ]
    }
   ],
   "source": [
    "cursor = db.inventory.find(\n",
    "    {\"status\": \"A\"},\n",
    "    {\"item\": 1, \"status\": 1, \"instock\": {\"$slice\": -1}})\n",
    "print_cursor(cursor)"
   ]
  },
  {
   "cell_type": "markdown",
   "metadata": {},
   "source": [
    "---\n",
    "# Query for Null or Missing Fields"
   ]
  },
  {
   "cell_type": "code",
   "execution_count": 52,
   "metadata": {},
   "outputs": [],
   "source": [
    "client.drop_database(\"local\")"
   ]
  },
  {
   "cell_type": "code",
   "execution_count": 53,
   "metadata": {},
   "outputs": [
    {
     "data": {
      "text/plain": [
       "<pymongo.results.InsertManyResult at 0x1ea80fcb8c0>"
      ]
     },
     "execution_count": 53,
     "metadata": {},
     "output_type": "execute_result"
    }
   ],
   "source": [
    "db.inventory.insert_many([{\"_id\": 1, \"item\": None}, {\"_id\": 2}])"
   ]
  },
  {
   "cell_type": "markdown",
   "metadata": {},
   "source": [
    "## Equality Filter"
   ]
  },
  {
   "cell_type": "code",
   "execution_count": 54,
   "metadata": {},
   "outputs": [
    {
     "name": "stdout",
     "output_type": "stream",
     "text": [
      "\n",
      "{'_id': 1, 'item': None}\n",
      "\n",
      "{'_id': 2}\n",
      "\n",
      "#Results: 2\n"
     ]
    }
   ],
   "source": [
    "cursor = db.inventory.find({\"item\": None})\n",
    "print_cursor(cursor)"
   ]
  },
  {
   "cell_type": "markdown",
   "metadata": {},
   "source": [
    "## Type Check"
   ]
  },
  {
   "cell_type": "code",
   "execution_count": 55,
   "metadata": {},
   "outputs": [
    {
     "name": "stdout",
     "output_type": "stream",
     "text": [
      "\n",
      "{'_id': 1, 'item': None}\n",
      "\n",
      "#Results: 1\n"
     ]
    }
   ],
   "source": [
    "cursor = db.inventory.find({\"item\": {\"$type\": 10}})\n",
    "print_cursor(cursor)"
   ]
  },
  {
   "cell_type": "markdown",
   "metadata": {},
   "source": [
    "## Existence Check"
   ]
  },
  {
   "cell_type": "code",
   "execution_count": 56,
   "metadata": {},
   "outputs": [
    {
     "name": "stdout",
     "output_type": "stream",
     "text": [
      "\n",
      "{'_id': 2}\n",
      "\n",
      "#Results: 1\n"
     ]
    }
   ],
   "source": [
    "cursor = db.inventory.find({\"item\": {\"$exists\": False}})\n",
    "print_cursor(cursor)"
   ]
  },
  {
   "cell_type": "markdown",
   "metadata": {},
   "source": [
    "---\n",
    "# Update Documents"
   ]
  },
  {
   "cell_type": "code",
   "execution_count": 57,
   "metadata": {},
   "outputs": [],
   "source": [
    "client.drop_database(\"local\")"
   ]
  },
  {
   "cell_type": "code",
   "execution_count": 58,
   "metadata": {},
   "outputs": [
    {
     "data": {
      "text/plain": [
       "<pymongo.results.InsertManyResult at 0x1ea81fd9d00>"
      ]
     },
     "execution_count": 58,
     "metadata": {},
     "output_type": "execute_result"
    }
   ],
   "source": [
    "db.inventory.insert_many([\n",
    "    {\"item\": \"canvas\",\n",
    "     \"qty\": 100,\n",
    "     \"size\": {\"h\": 28, \"w\": 35.5, \"uom\": \"cm\"},\n",
    "     \"status\": \"A\"},\n",
    "    {\"item\": \"journal\",\n",
    "     \"qty\": 25,\n",
    "     \"size\": {\"h\": 14, \"w\": 21, \"uom\": \"cm\"},\n",
    "     \"status\": \"A\"},\n",
    "    {\"item\": \"mat\",\n",
    "     \"qty\": 85,\n",
    "     \"size\": {\"h\": 27.9, \"w\": 35.5, \"uom\": \"cm\"},\n",
    "     \"status\": \"A\"},\n",
    "    {\"item\": \"mousepad\",\n",
    "     \"qty\": 25,\n",
    "     \"size\": {\"h\": 19, \"w\": 22.85, \"uom\": \"cm\"},\n",
    "     \"status\": \"P\"},\n",
    "    {\"item\": \"notebook\",\n",
    "     \"qty\": 50,\n",
    "     \"size\": {\"h\": 8.5, \"w\": 11, \"uom\": \"in\"},\n",
    "     \"status\": \"P\"},\n",
    "    {\"item\": \"paper\",\n",
    "     \"qty\": 100,\n",
    "     \"size\": {\"h\": 8.5, \"w\": 11, \"uom\": \"in\"},\n",
    "     \"status\": \"D\"},\n",
    "    {\"item\": \"planner\",\n",
    "     \"qty\": 75,\n",
    "     \"size\": {\"h\": 22.85, \"w\": 30, \"uom\": \"cm\"},\n",
    "     \"status\": \"D\"},\n",
    "    {\"item\": \"postcard\",\n",
    "     \"qty\": 45,\n",
    "     \"size\": {\"h\": 10, \"w\": 15.25, \"uom\": \"cm\"},\n",
    "     \"status\": \"A\"},\n",
    "    {\"item\": \"sketchbook\",\n",
    "     \"qty\": 80,\n",
    "     \"size\": {\"h\": 14, \"w\": 21, \"uom\": \"cm\"},\n",
    "     \"status\": \"A\"},\n",
    "    {\"item\": \"sketch pad\",\n",
    "     \"qty\": 95,\n",
    "     \"size\": {\"h\": 22.85, \"w\": 30.5, \"uom\": \"cm\"},\n",
    "     \"status\": \"A\"}])"
   ]
  },
  {
   "cell_type": "markdown",
   "metadata": {},
   "source": [
    "## Update Documents in a Collection"
   ]
  },
  {
   "cell_type": "markdown",
   "metadata": {},
   "source": [
    "### Update a Single Document"
   ]
  },
  {
   "cell_type": "code",
   "execution_count": 59,
   "metadata": {},
   "outputs": [
    {
     "name": "stdout",
     "output_type": "stream",
     "text": [
      "\n",
      "{'_id': ObjectId('61276ba6fcc2197f1d1941c9'), 'item': 'paper', 'qty': 100, 'size': {'h': 8.5, 'w': 11, 'uom': 'cm'}, 'status': 'P', 'lastModified': datetime.datetime(2021, 8, 26, 10, 23, 34, 681000)}\n",
      "\n",
      "#Results: 1\n"
     ]
    }
   ],
   "source": [
    "db.inventory.update_one(\n",
    "    {\"item\": \"paper\"},\n",
    "    {\"$set\": {\"size.uom\": \"cm\", \"status\": \"P\"},\n",
    "     \"$currentDate\": {\"lastModified\": True}})\n",
    "\n",
    "cursor = db.inventory.find({\"item\": \"paper\"})\n",
    "print_cursor(cursor)"
   ]
  },
  {
   "cell_type": "markdown",
   "metadata": {},
   "source": [
    "### Update Multiple  Documents"
   ]
  },
  {
   "cell_type": "code",
   "execution_count": 60,
   "metadata": {},
   "outputs": [
    {
     "name": "stdout",
     "output_type": "stream",
     "text": [
      "\n",
      "{'_id': ObjectId('61276ba6fcc2197f1d1941c5'), 'item': 'journal', 'qty': 25, 'size': {'h': 14, 'w': 21, 'uom': 'in'}, 'status': 'P', 'lastModified': datetime.datetime(2021, 8, 26, 10, 23, 35, 3000)}\n",
      "\n",
      "{'_id': ObjectId('61276ba6fcc2197f1d1941c7'), 'item': 'mousepad', 'qty': 25, 'size': {'h': 19, 'w': 22.85, 'uom': 'in'}, 'status': 'P', 'lastModified': datetime.datetime(2021, 8, 26, 10, 23, 35, 3000)}\n",
      "\n",
      "{'_id': ObjectId('61276ba6fcc2197f1d1941cb'), 'item': 'postcard', 'qty': 45, 'size': {'h': 10, 'w': 15.25, 'uom': 'in'}, 'status': 'P', 'lastModified': datetime.datetime(2021, 8, 26, 10, 23, 35, 3000)}\n",
      "\n",
      "#Results: 3\n"
     ]
    }
   ],
   "source": [
    "db.inventory.update_many(\n",
    "    {\"qty\": {\"$lt\": 50}},\n",
    "    {\"$set\": {\"size.uom\": \"in\", \"status\": \"P\"},\n",
    "     \"$currentDate\": {\"lastModified\": True}})\n",
    "\n",
    "cursor = db.inventory.find({\"qty\": {\"$lt\": 50}})\n",
    "print_cursor(cursor)"
   ]
  },
  {
   "cell_type": "markdown",
   "metadata": {},
   "source": [
    "### Replace a Whole Document"
   ]
  },
  {
   "cell_type": "code",
   "execution_count": 61,
   "metadata": {},
   "outputs": [
    {
     "name": "stdout",
     "output_type": "stream",
     "text": [
      "\n",
      "{'_id': ObjectId('61276ba6fcc2197f1d1941c9'), 'item': 'paper', 'instock': [{'warehouse': 'A', 'qty': 60}, {'warehouse': 'B', 'qty': 40}]}\n",
      "\n",
      "#Results: 1\n"
     ]
    }
   ],
   "source": [
    "db.inventory.replace_one(\n",
    "    {\"item\": \"paper\"},\n",
    "    {\"item\": \"paper\",\n",
    "     \"instock\": [\n",
    "         {\"warehouse\": \"A\", \"qty\": 60},\n",
    "         {\"warehouse\": \"B\", \"qty\": 40}]})\n",
    "\n",
    "cursor = db.inventory.find({\"item\": \"paper\"})\n",
    "print_cursor(cursor)"
   ]
  },
  {
   "cell_type": "markdown",
   "metadata": {},
   "source": [
    "---\n",
    "# Delete Documents"
   ]
  },
  {
   "cell_type": "code",
   "execution_count": 62,
   "metadata": {},
   "outputs": [],
   "source": [
    "client.drop_database(\"local\")"
   ]
  },
  {
   "cell_type": "code",
   "execution_count": 63,
   "metadata": {},
   "outputs": [
    {
     "data": {
      "text/plain": [
       "<pymongo.results.InsertManyResult at 0x1ea81fbb400>"
      ]
     },
     "execution_count": 63,
     "metadata": {},
     "output_type": "execute_result"
    }
   ],
   "source": [
    "db.inventory.insert_many([\n",
    "    {\"item\": \"journal\",\n",
    "     \"qty\": 25,\n",
    "     \"size\": {\"h\": 14, \"w\": 21, \"uom\": \"cm\"},\n",
    "     \"status\": \"A\"},\n",
    "    {\"item\": \"notebook\",\n",
    "     \"qty\": 50,\n",
    "     \"size\": {\"h\": 8.5, \"w\": 11, \"uom\": \"in\"},\n",
    "     \"status\": \"P\"},\n",
    "    {\"item\": \"paper\",\n",
    "     \"qty\": 100,\n",
    "     \"size\": {\"h\": 8.5, \"w\": 11, \"uom\": \"in\"},\n",
    "     \"status\": \"D\"},\n",
    "    {\"item\": \"planner\",\n",
    "     \"qty\": 75,\n",
    "     \"size\": {\"h\": 22.85, \"w\": 30, \"uom\": \"cm\"},\n",
    "     \"status\": \"D\"},\n",
    "    {\"item\": \"postcard\",\n",
    "     \"qty\": 45,\n",
    "     \"size\": {\"h\": 10, \"w\": 15.25, \"uom\": \"cm\"},\n",
    "     \"status\": \"A\"}])"
   ]
  },
  {
   "cell_type": "markdown",
   "metadata": {},
   "source": [
    "## Delete All Documents"
   ]
  },
  {
   "cell_type": "code",
   "execution_count": 64,
   "metadata": {
    "scrolled": true
   },
   "outputs": [
    {
     "name": "stdout",
     "output_type": "stream",
     "text": [
      "5\n"
     ]
    }
   ],
   "source": [
    "cursor = db.inventory.delete_many({})\n",
    "print(cursor.deleted_count)"
   ]
  },
  {
   "cell_type": "markdown",
   "metadata": {},
   "source": [
    "> # **Insert again**"
   ]
  },
  {
   "cell_type": "code",
   "execution_count": 65,
   "metadata": {},
   "outputs": [
    {
     "data": {
      "text/plain": [
       "<pymongo.results.InsertManyResult at 0x1ea81feb1c0>"
      ]
     },
     "execution_count": 65,
     "metadata": {},
     "output_type": "execute_result"
    }
   ],
   "source": [
    "client.drop_database(\"local\")\n",
    "\n",
    "db.inventory.insert_many([\n",
    "    {\"item\": \"journal\",\n",
    "     \"qty\": 25,\n",
    "     \"size\": {\"h\": 14, \"w\": 21, \"uom\": \"cm\"},\n",
    "     \"status\": \"A\"},\n",
    "    {\"item\": \"notebook\",\n",
    "     \"qty\": 50,\n",
    "     \"size\": {\"h\": 8.5, \"w\": 11, \"uom\": \"in\"},\n",
    "     \"status\": \"P\"},\n",
    "    {\"item\": \"paper\",\n",
    "     \"qty\": 100,\n",
    "     \"size\": {\"h\": 8.5, \"w\": 11, \"uom\": \"in\"},\n",
    "     \"status\": \"D\"},\n",
    "    {\"item\": \"planner\",\n",
    "     \"qty\": 75,\n",
    "     \"size\": {\"h\": 22.85, \"w\": 30, \"uom\": \"cm\"},\n",
    "     \"status\": \"D\"},\n",
    "    {\"item\": \"postcard\",\n",
    "     \"qty\": 45,\n",
    "     \"size\": {\"h\": 10, \"w\": 15.25, \"uom\": \"cm\"},\n",
    "     \"status\": \"A\"}])"
   ]
  },
  {
   "cell_type": "markdown",
   "metadata": {},
   "source": [
    "## Delete All Documents that Match a Condition"
   ]
  },
  {
   "cell_type": "code",
   "execution_count": 66,
   "metadata": {},
   "outputs": [
    {
     "name": "stdout",
     "output_type": "stream",
     "text": [
      "2\n"
     ]
    }
   ],
   "source": [
    "cursor = db.inventory.delete_many({\"status\": \"A\"})\n",
    "print(cursor.deleted_count)"
   ]
  },
  {
   "cell_type": "markdown",
   "metadata": {},
   "source": [
    "## Delete Only One Document that Matches a Condition"
   ]
  },
  {
   "cell_type": "code",
   "execution_count": 67,
   "metadata": {},
   "outputs": [
    {
     "name": "stdout",
     "output_type": "stream",
     "text": [
      "1\n"
     ]
    }
   ],
   "source": [
    "cursor = db.inventory.delete_one({\"status\": \"D\"})\n",
    "print(cursor.deleted_count)"
   ]
  },
  {
   "cell_type": "markdown",
   "metadata": {},
   "source": [
    "> **Deleted first match only**"
   ]
  },
  {
   "cell_type": "code",
   "execution_count": 68,
   "metadata": {},
   "outputs": [
    {
     "name": "stdout",
     "output_type": "stream",
     "text": [
      "\n",
      "{'_id': ObjectId('61276ba8fcc2197f1d1941d6'), 'item': 'planner', 'qty': 75, 'size': {'h': 22.85, 'w': 30, 'uom': 'cm'}, 'status': 'D'}\n",
      "\n",
      "#Results: 1\n"
     ]
    }
   ],
   "source": [
    "cursor = db.inventory.find({\"status\": \"D\"})\n",
    "print_cursor(cursor)"
   ]
  },
  {
   "cell_type": "markdown",
   "metadata": {},
   "source": [
    "---"
   ]
  }
 ],
 "metadata": {
  "kernelspec": {
   "display_name": "Python 3",
   "language": "python",
   "name": "python3"
  },
  "language_info": {
   "codemirror_mode": {
    "name": "ipython",
    "version": 3
   },
   "file_extension": ".py",
   "mimetype": "text/x-python",
   "name": "python",
   "nbconvert_exporter": "python",
   "pygments_lexer": "ipython3",
   "version": "3.8.5"
  }
 },
 "nbformat": 4,
 "nbformat_minor": 5
}
